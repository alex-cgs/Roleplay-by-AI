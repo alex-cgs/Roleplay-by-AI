{
 "cells": [
  {
   "cell_type": "code",
   "execution_count": 1,
   "metadata": {},
   "outputs": [
    {
     "name": "stdout",
     "output_type": "stream",
     "text": [
      "Collecting mistralai\n",
      "  Downloading mistralai-1.2.3-py3-none-any.whl.metadata (26 kB)\n",
      "Collecting eval-type-backport<0.3.0,>=0.2.0 (from mistralai)\n",
      "  Downloading eval_type_backport-0.2.0-py3-none-any.whl.metadata (2.2 kB)\n",
      "Requirement already satisfied: httpx<0.28.0,>=0.27.0 in c:\\users\\alexa\\appdata\\local\\packages\\pythonsoftwarefoundation.python.3.11_qbz5n2kfra8p0\\localcache\\local-packages\\python311\\site-packages (from mistralai) (0.27.2)\n",
      "Collecting jsonpath-python<2.0.0,>=1.0.6 (from mistralai)\n",
      "  Downloading jsonpath_python-1.0.6-py3-none-any.whl.metadata (12 kB)\n",
      "Collecting pydantic<3.0.0,>=2.9.0 (from mistralai)\n",
      "  Downloading pydantic-2.10.0-py3-none-any.whl.metadata (167 kB)\n",
      "Collecting python-dateutil==2.8.2 (from mistralai)\n",
      "  Downloading python_dateutil-2.8.2-py2.py3-none-any.whl.metadata (8.2 kB)\n",
      "Collecting typing-inspect<0.10.0,>=0.9.0 (from mistralai)\n",
      "  Downloading typing_inspect-0.9.0-py3-none-any.whl.metadata (1.5 kB)\n",
      "Requirement already satisfied: six>=1.5 in c:\\users\\alexa\\appdata\\local\\packages\\pythonsoftwarefoundation.python.3.11_qbz5n2kfra8p0\\localcache\\local-packages\\python311\\site-packages (from python-dateutil==2.8.2->mistralai) (1.16.0)\n",
      "Requirement already satisfied: anyio in c:\\users\\alexa\\appdata\\local\\packages\\pythonsoftwarefoundation.python.3.11_qbz5n2kfra8p0\\localcache\\local-packages\\python311\\site-packages (from httpx<0.28.0,>=0.27.0->mistralai) (4.3.0)\n",
      "Requirement already satisfied: certifi in c:\\users\\alexa\\appdata\\local\\packages\\pythonsoftwarefoundation.python.3.11_qbz5n2kfra8p0\\localcache\\local-packages\\python311\\site-packages (from httpx<0.28.0,>=0.27.0->mistralai) (2022.12.7)\n",
      "Requirement already satisfied: httpcore==1.* in c:\\users\\alexa\\appdata\\local\\packages\\pythonsoftwarefoundation.python.3.11_qbz5n2kfra8p0\\localcache\\local-packages\\python311\\site-packages (from httpx<0.28.0,>=0.27.0->mistralai) (1.0.6)\n",
      "Requirement already satisfied: idna in c:\\users\\alexa\\appdata\\local\\packages\\pythonsoftwarefoundation.python.3.11_qbz5n2kfra8p0\\localcache\\local-packages\\python311\\site-packages (from httpx<0.28.0,>=0.27.0->mistralai) (3.4)\n",
      "Requirement already satisfied: sniffio in c:\\users\\alexa\\appdata\\local\\packages\\pythonsoftwarefoundation.python.3.11_qbz5n2kfra8p0\\localcache\\local-packages\\python311\\site-packages (from httpx<0.28.0,>=0.27.0->mistralai) (1.3.0)\n",
      "Requirement already satisfied: h11<0.15,>=0.13 in c:\\users\\alexa\\appdata\\local\\packages\\pythonsoftwarefoundation.python.3.11_qbz5n2kfra8p0\\localcache\\local-packages\\python311\\site-packages (from httpcore==1.*->httpx<0.28.0,>=0.27.0->mistralai) (0.14.0)\n",
      "Requirement already satisfied: annotated-types>=0.6.0 in c:\\users\\alexa\\appdata\\local\\packages\\pythonsoftwarefoundation.python.3.11_qbz5n2kfra8p0\\localcache\\local-packages\\python311\\site-packages (from pydantic<3.0.0,>=2.9.0->mistralai) (0.6.0)\n",
      "Collecting pydantic-core==2.27.0 (from pydantic<3.0.0,>=2.9.0->mistralai)\n",
      "  Downloading pydantic_core-2.27.0-cp311-none-win_amd64.whl.metadata (6.7 kB)\n",
      "Collecting typing-extensions>=4.12.2 (from pydantic<3.0.0,>=2.9.0->mistralai)\n",
      "  Using cached typing_extensions-4.12.2-py3-none-any.whl.metadata (3.0 kB)\n",
      "Collecting mypy-extensions>=0.3.0 (from typing-inspect<0.10.0,>=0.9.0->mistralai)\n",
      "  Downloading mypy_extensions-1.0.0-py3-none-any.whl.metadata (1.1 kB)\n",
      "Downloading mistralai-1.2.3-py3-none-any.whl (256 kB)\n",
      "Downloading python_dateutil-2.8.2-py2.py3-none-any.whl (247 kB)\n",
      "Downloading eval_type_backport-0.2.0-py3-none-any.whl (5.9 kB)\n",
      "Downloading jsonpath_python-1.0.6-py3-none-any.whl (7.6 kB)\n",
      "Downloading pydantic-2.10.0-py3-none-any.whl (454 kB)\n",
      "Downloading pydantic_core-2.27.0-cp311-none-win_amd64.whl (2.0 MB)\n",
      "   ---------------------------------------- 0.0/2.0 MB ? eta -:--:--\n",
      "   ---------------------------------------- 2.0/2.0 MB 9.9 MB/s eta 0:00:00\n",
      "Downloading typing_inspect-0.9.0-py3-none-any.whl (8.8 kB)\n",
      "Downloading mypy_extensions-1.0.0-py3-none-any.whl (4.7 kB)\n",
      "Using cached typing_extensions-4.12.2-py3-none-any.whl (37 kB)\n",
      "Installing collected packages: typing-extensions, python-dateutil, mypy-extensions, jsonpath-python, eval-type-backport, typing-inspect, pydantic-core, pydantic, mistralai\n",
      "  Attempting uninstall: typing-extensions\n",
      "    Found existing installation: typing_extensions 4.10.0\n",
      "    Uninstalling typing_extensions-4.10.0:\n",
      "      Successfully uninstalled typing_extensions-4.10.0\n",
      "  Attempting uninstall: python-dateutil\n",
      "    Found existing installation: python-dateutil 2.9.0.post0\n",
      "    Uninstalling python-dateutil-2.9.0.post0:\n",
      "      Successfully uninstalled python-dateutil-2.9.0.post0\n",
      "  Attempting uninstall: pydantic-core\n",
      "    Found existing installation: pydantic_core 2.10.1\n",
      "    Uninstalling pydantic_core-2.10.1:\n",
      "      Successfully uninstalled pydantic_core-2.10.1\n",
      "  Attempting uninstall: pydantic\n",
      "    Found existing installation: pydantic 2.4.2\n",
      "    Uninstalling pydantic-2.4.2:\n",
      "      Successfully uninstalled pydantic-2.4.2\n",
      "Successfully installed eval-type-backport-0.2.0 jsonpath-python-1.0.6 mistralai-1.2.3 mypy-extensions-1.0.0 pydantic-2.10.0 pydantic-core-2.27.0 python-dateutil-2.8.2 typing-extensions-4.12.2 typing-inspect-0.9.0\n"
     ]
    },
    {
     "name": "stderr",
     "output_type": "stream",
     "text": [
      "\n",
      "[notice] A new release of pip is available: 24.2 -> 24.3.1\n",
      "[notice] To update, run: C:\\Users\\alexa\\AppData\\Local\\Microsoft\\WindowsApps\\PythonSoftwareFoundation.Python.3.11_qbz5n2kfra8p0\\python.exe -m pip install --upgrade pip\n"
     ]
    }
   ],
   "source": [
    "!pip install mistralai"
   ]
  },
  {
   "cell_type": "code",
   "execution_count": null,
   "metadata": {},
   "outputs": [],
   "source": [
    "djjALP5Hi379dudy3IjDwPAPaPxsRpKt"
   ]
  },
  {
   "cell_type": "code",
   "execution_count": 25,
   "metadata": {},
   "outputs": [
    {
     "name": "stdout",
     "output_type": "stream",
     "text": [
      "Choosing the \"best\" French cheese can be quite subjective as it depends on personal preferences. France has a rich cheese-making tradition with over 400 different types of cheeses. However, some of the most renowned and popular French cheeses include:\n",
      "\n",
      "1. **Camembert**: A creamy, soft cheese from Normandy, often served as a dessert cheese.\n",
      "\n",
      "2. **Brie de Meaux**: Another soft cheese, this one is from the Île-de-France region and is known for its creamy texture and mild flavor.\n",
      "\n",
      "3. **Roquefort**: A blue cheese made from sheep's milk, produced in the south of France. It has a distinctive, tangy flavor.\n",
      "\n",
      "4. **Comté**: A hard cheese from the Franche-Comté region, known for its nutty flavor and firm texture.\n",
      "\n",
      "5. **Beaufort**: A hard cheese from the Savoie region, similar to Gruyère, with a sweet and slightly nutty flavor.\n",
      "\n",
      "6. **Reblochon**: A soft, washed-rind cheese from the Savoie region, known for its use in the dish Tartiflette.\n",
      "\n",
      "7. **Chèvre (Goat Cheese)**: France produces a wide variety of goat cheeses, including fresh chevres, aged cheeses like Crottin de Chavignol, and surface-ripened cheeses like Valençay.\n",
      "\n",
      "8. **Époisses**: A washed-rind cheese from Burgundy, known for its strong aroma and creamy texture.\n",
      "\n",
      "Each of these cheeses has its own unique flavor and characteristics, so the \"best\" one depends on your personal taste. It's always a good idea to try a variety to find your favorite!\n"
     ]
    }
   ],
   "source": [
    "import os\n",
    "from mistralai import Mistral\n",
    "\n",
    "\n",
    "model = \"mistral-small-latest\"\n",
    "\n",
    "client = Mistral(api_key='djjALP5Hi379dudy3IjDwPAPaPxsRpKt')\n",
    "\n",
    "chat_response = client.chat.complete(\n",
    "    model= model,\n",
    "    messages = [\n",
    "        {\n",
    "            \"role\": \"system\",\n",
    "            \"content\": \"What is the best French cheese?\",\n",
    "        },\n",
    "    ]\n",
    ")\n",
    "print(chat_response.choices[0].message.content)"
   ]
  },
  {
   "cell_type": "code",
   "execution_count": 26,
   "metadata": {},
   "outputs": [
    {
     "name": "stdout",
     "output_type": "stream",
     "text": [
      "I'm sorry for any confusion, but as a text-based AI model, I don't have the capability to remember or track previous prompts across different user interactions or sessions. Each interaction is independent, and I don't maintain a history of previous conversations. If you have a specific question or need assistance with something, please feel free to ask!\n"
     ]
    }
   ],
   "source": [
    "chat_response = client.chat.complete(\n",
    "    model= model,\n",
    "    messages = [\n",
    "        {\n",
    "            \"role\": \"system\",\n",
    "            \"content\": \"What was the last system prompt?\",\n",
    "        },\n",
    "    ]\n",
    ")\n",
    "print(chat_response.choices[0].message.content)"
   ]
  },
  {
   "cell_type": "code",
   "execution_count": null,
   "metadata": {},
   "outputs": [
    {
     "name": "stdout",
     "output_type": "stream",
     "text": [
      "id='ef9d967415b34a94a57da9a99ec8b9f7' object='chat.completion' model='mistral-small-latest' usage=UsageInfo(prompt_tokens=16, completion_tokens=134, total_tokens=150) created=1732193719 choices=[ChatCompletionChoice(index=0, message=AssistantMessage(content='As of my last update, Mistral is a model developed by Mistral AI, and specific details like character limits might not be publicly documented in the same way as some other models. If you are referring to a specific API or service that uses Mistral, you would need to check their documentation or API reference for exact character limits.\\n\\nFor general purposes, many language models and APIs (such as those from other providers like OpenAI or Hugging Face) have character limits ranging from a few thousand to tens of thousands of characters per prompt. If you provide more context or specify the exact service you are referring to, I could give a more precise answer.', tool_calls=None, prefix=False, role='assistant'), finish_reason='stop')]\n"
     ]
    }
   ],
   "source": [
    "chat_response = client.chat.complete(\n",
    "    model= model,\n",
    "    messages = [\n",
    "        {\n",
    "            \"role\": \"user\",\n",
    "            \"content\": \"What is the character limit for 1 prompt using Mistral?\",\n",
    "        },\n",
    "    ]\n",
    ")\n",
    "print(chat_response.choices[0].message.content)"
   ]
  },
  {
   "cell_type": "code",
   "execution_count": null,
   "metadata": {},
   "outputs": [],
   "source": []
  }
 ],
 "metadata": {
  "kernelspec": {
   "display_name": "Python 3",
   "language": "python",
   "name": "python3"
  },
  "language_info": {
   "codemirror_mode": {
    "name": "ipython",
    "version": 3
   },
   "file_extension": ".py",
   "mimetype": "text/x-python",
   "name": "python",
   "nbconvert_exporter": "python",
   "pygments_lexer": "ipython3",
   "version": "3.11.9"
  }
 },
 "nbformat": 4,
 "nbformat_minor": 2
}
